{
 "cells": [
  {
   "cell_type": "markdown",
   "id": "524d7643",
   "metadata": {},
   "source": [
    "# Combining ARIMA with Decomposition"
   ]
  },
  {
   "cell_type": "markdown",
   "id": "0ab6c132",
   "metadata": {},
   "source": [
    "We've already gone through the process of a simple ARIMA model. In this exercise we're going to build on that slightly by using a combination of an ARIMA model with the `seasonal decompose` tool you saw in the lecture. There are models we can use __specifically__ for dealing with seasonality, but we're going to go step by step here and manually pull apart this time series so we fully understand it and some of the issues we can have when working with TS data."
   ]
  },
  {
   "cell_type": "markdown",
   "id": "e999c284",
   "metadata": {},
   "source": [
    "For this challenge we're going to be working with the daily CO2 ppm measurements, specifically, the daily CO2 measurements from the Mauna Loa Observatory 🌋\n",
    "\n",
    "They have been taken since since 1958, and are a cornerstone of climate science. Perched at over 3,000 meters in Hawaii, the observatory is well-positioned to monitor global atmospheric carbon levels, largely free from local emissions. While the record is robust, __it does contain gaps due to occasional instrument issues or extreme weather__, which researchers must account for in their analyses to maintain the integrity of this critical dataset.  We'll be using a portion of data that has been taken __almost__ daily since 1974 - we will address the gaps in the data throughout the course of the notebook!\n",
    "\n",
    "If you're curious about the climate work done by the lab, you can read more about it here: https://gml.noaa.gov/ccgg/about/co2_measurements.html"
   ]
  },
  {
   "cell_type": "markdown",
   "id": "537d8187",
   "metadata": {},
   "source": [
    "## Loading and exploring the data"
   ]
  },
  {
   "cell_type": "code",
   "execution_count": 1,
   "id": "148e92be",
   "metadata": {
    "execution": {
     "iopub.execute_input": "2025-05-15T12:25:06.708454Z",
     "iopub.status.busy": "2025-05-15T12:25:06.708070Z",
     "iopub.status.idle": "2025-05-15T12:25:07.783413Z",
     "shell.execute_reply": "2025-05-15T12:25:07.781968Z",
     "shell.execute_reply.started": "2025-05-15T12:25:06.708423Z"
    }
   },
   "outputs": [],
   "source": [
    "import pandas as pd\n",
    "import matplotlib.pyplot as plt\n",
    "import numpy as np"
   ]
  },
  {
   "cell_type": "code",
   "execution_count": 2,
   "id": "70d9707e",
   "metadata": {
    "execution": {
     "iopub.execute_input": "2025-05-15T12:25:07.785233Z",
     "iopub.status.busy": "2025-05-15T12:25:07.784881Z",
     "iopub.status.idle": "2025-05-15T12:25:08.083623Z",
     "shell.execute_reply": "2025-05-15T12:25:08.082318Z",
     "shell.execute_reply.started": "2025-05-15T12:25:07.785197Z"
    }
   },
   "outputs": [],
   "source": [
    "df = pd.read_csv(\"https://wagon-public-datasets.s3.amazonaws.com/05-Machine-Learning/09-Time-Series/co2_daily_mlo.csv\")"
   ]
  },
  {
   "cell_type": "code",
   "execution_count": 3,
   "id": "a743628c",
   "metadata": {
    "execution": {
     "iopub.execute_input": "2025-05-15T12:25:08.085606Z",
     "iopub.status.busy": "2025-05-15T12:25:08.085210Z",
     "iopub.status.idle": "2025-05-15T12:25:08.110451Z",
     "shell.execute_reply": "2025-05-15T12:25:08.108695Z",
     "shell.execute_reply.started": "2025-05-15T12:25:08.085562Z"
    }
   },
   "outputs": [
    {
     "data": {
      "text/html": [
       "<div>\n",
       "<style scoped>\n",
       "    .dataframe tbody tr th:only-of-type {\n",
       "        vertical-align: middle;\n",
       "    }\n",
       "\n",
       "    .dataframe tbody tr th {\n",
       "        vertical-align: top;\n",
       "    }\n",
       "\n",
       "    .dataframe thead th {\n",
       "        text-align: right;\n",
       "    }\n",
       "</style>\n",
       "<table border=\"1\" class=\"dataframe\">\n",
       "  <thead>\n",
       "    <tr style=\"text-align: right;\">\n",
       "      <th></th>\n",
       "      <th>year</th>\n",
       "      <th>month</th>\n",
       "      <th>day</th>\n",
       "      <th>CO2 molfrac (ppm)</th>\n",
       "    </tr>\n",
       "  </thead>\n",
       "  <tbody>\n",
       "    <tr>\n",
       "      <th>0</th>\n",
       "      <td>1974</td>\n",
       "      <td>5</td>\n",
       "      <td>17</td>\n",
       "      <td>333.38</td>\n",
       "    </tr>\n",
       "    <tr>\n",
       "      <th>1</th>\n",
       "      <td>1974</td>\n",
       "      <td>5</td>\n",
       "      <td>18</td>\n",
       "      <td>333.11</td>\n",
       "    </tr>\n",
       "    <tr>\n",
       "      <th>2</th>\n",
       "      <td>1974</td>\n",
       "      <td>5</td>\n",
       "      <td>19</td>\n",
       "      <td>333.46</td>\n",
       "    </tr>\n",
       "    <tr>\n",
       "      <th>3</th>\n",
       "      <td>1974</td>\n",
       "      <td>5</td>\n",
       "      <td>20</td>\n",
       "      <td>333.64</td>\n",
       "    </tr>\n",
       "    <tr>\n",
       "      <th>4</th>\n",
       "      <td>1974</td>\n",
       "      <td>5</td>\n",
       "      <td>21</td>\n",
       "      <td>333.50</td>\n",
       "    </tr>\n",
       "    <tr>\n",
       "      <th>...</th>\n",
       "      <td>...</td>\n",
       "      <td>...</td>\n",
       "      <td>...</td>\n",
       "      <td>...</td>\n",
       "    </tr>\n",
       "    <tr>\n",
       "      <th>15191</th>\n",
       "      <td>2023</td>\n",
       "      <td>10</td>\n",
       "      <td>19</td>\n",
       "      <td>419.44</td>\n",
       "    </tr>\n",
       "    <tr>\n",
       "      <th>15192</th>\n",
       "      <td>2023</td>\n",
       "      <td>10</td>\n",
       "      <td>20</td>\n",
       "      <td>419.53</td>\n",
       "    </tr>\n",
       "    <tr>\n",
       "      <th>15193</th>\n",
       "      <td>2023</td>\n",
       "      <td>10</td>\n",
       "      <td>21</td>\n",
       "      <td>418.90</td>\n",
       "    </tr>\n",
       "    <tr>\n",
       "      <th>15194</th>\n",
       "      <td>2023</td>\n",
       "      <td>10</td>\n",
       "      <td>23</td>\n",
       "      <td>419.09</td>\n",
       "    </tr>\n",
       "    <tr>\n",
       "      <th>15195</th>\n",
       "      <td>2023</td>\n",
       "      <td>10</td>\n",
       "      <td>24</td>\n",
       "      <td>418.89</td>\n",
       "    </tr>\n",
       "  </tbody>\n",
       "</table>\n",
       "<p>15196 rows × 4 columns</p>\n",
       "</div>"
      ],
      "text/plain": [
       "       year  month  day  CO2 molfrac (ppm)\n",
       "0      1974      5   17             333.38\n",
       "1      1974      5   18             333.11\n",
       "2      1974      5   19             333.46\n",
       "3      1974      5   20             333.64\n",
       "4      1974      5   21             333.50\n",
       "...     ...    ...  ...                ...\n",
       "15191  2023     10   19             419.44\n",
       "15192  2023     10   20             419.53\n",
       "15193  2023     10   21             418.90\n",
       "15194  2023     10   23             419.09\n",
       "15195  2023     10   24             418.89\n",
       "\n",
       "[15196 rows x 4 columns]"
      ]
     },
     "execution_count": 3,
     "metadata": {},
     "output_type": "execute_result"
    }
   ],
   "source": [
    "df"
   ]
  },
  {
   "cell_type": "markdown",
   "id": "2b04d21b",
   "metadata": {},
   "source": [
    "We can see the data isn't formatted very nicely for us to work with, so let's solve that step first by using `pd.to_datetime()` (you can use the function on multiple columns at once 👀). Check the [docs](https://pandas.pydata.org/docs/reference/api/pandas.to_datetime.html) to find out more.\n",
    "\n",
    "Once you've formatted it correctly, set it as your index."
   ]
  },
  {
   "cell_type": "code",
   "execution_count": 4,
   "id": "2847df27",
   "metadata": {
    "execution": {
     "iopub.execute_input": "2025-05-15T12:25:08.112644Z",
     "iopub.status.busy": "2025-05-15T12:25:08.111938Z",
     "iopub.status.idle": "2025-05-15T12:25:08.137881Z",
     "shell.execute_reply": "2025-05-15T12:25:08.136728Z",
     "shell.execute_reply.started": "2025-05-15T12:25:08.112601Z"
    },
    "tags": [
     "challengify"
    ]
   },
   "outputs": [],
   "source": [
    "# Convert year, month, and day to datetime and set as index\n",
    "df['date'] = pd.to_datetime(df[['year', 'month', 'day']])\n",
    "df.set_index('date', inplace=True)\n",
    "\n",
    "# Drop the original columns\n",
    "df.drop(columns=['year', 'month', 'day'], inplace=True)\n"
   ]
  },
  {
   "cell_type": "markdown",
   "id": "5133f645",
   "metadata": {},
   "source": [
    "Plot out your CO2 values and discuss with your partner what you see. Does it look like you have any gaps in your data? Are you __sure__? Check the top 50 values of your DataFrame"
   ]
  },
  {
   "cell_type": "code",
   "execution_count": 5,
   "id": "00f4c383",
   "metadata": {
    "execution": {
     "iopub.execute_input": "2025-05-15T12:25:08.141815Z",
     "iopub.status.busy": "2025-05-15T12:25:08.141300Z",
     "iopub.status.idle": "2025-05-15T12:25:08.487074Z",
     "shell.execute_reply": "2025-05-15T12:25:08.485927Z",
     "shell.execute_reply.started": "2025-05-15T12:25:08.141771Z"
    },
    "tags": [
     "challengify"
    ]
   },
   "outputs": [
    {
     "data": {
      "image/png": "[encoded data removed]",
      "text/plain": [
       "<Figure size 640x480 with 1 Axes>"
      ]
     },
     "metadata": {},
     "output_type": "display_data"
    },
    {
     "data": {
      "text/html": [
       "<div>\n",
       "<style scoped>\n",
       "    .dataframe tbody tr th:only-of-type {\n",
       "        vertical-align: middle;\n",
       "    }\n",
       "\n",
       "    .dataframe tbody tr th {\n",
       "        vertical-align: top;\n",
       "    }\n",
       "\n",
       "    .dataframe thead th {\n",
       "        text-align: right;\n",
       "    }\n",
       "</style>\n",
       "<table border=\"1\" class=\"dataframe\">\n",
       "  <thead>\n",
       "    <tr style=\"text-align: right;\">\n",
       "      <th></th>\n",
       "      <th>CO2 molfrac (ppm)</th>\n",
       "    </tr>\n",
       "    <tr>\n",
       "      <th>date</th>\n",
       "      <th></th>\n",
       "    </tr>\n",
       "  </thead>\n",
       "  <tbody>\n",
       "    <tr>\n",
       "      <th>1974-05-17</th>\n",
       "      <td>333.38</td>\n",
       "    </tr>\n",
       "    <tr>\n",
       "      <th>1974-05-18</th>\n",
       "      <td>333.11</td>\n",
       "    </tr>\n",
       "    <tr>\n",
       "      <th>1974-05-19</th>\n",
       "      <td>333.46</td>\n",
       "    </tr>\n",
       "    <tr>\n",
       "      <th>1974-05-20</th>\n",
       "      <td>333.64</td>\n",
       "    </tr>\n",
       "    <tr>\n",
       "      <th>1974-05-21</th>\n",
       "      <td>333.50</td>\n",
       "    </tr>\n",
       "    <tr>\n",
       "      <th>1974-05-22</th>\n",
       "      <td>333.21</td>\n",
       "    </tr>\n",
       "    <tr>\n",
       "      <th>1974-05-23</th>\n",
       "      <td>333.05</td>\n",
       "    </tr>\n",
       "    <tr>\n",
       "      <th>1974-05-26</th>\n",
       "      <td>333.32</td>\n",
       "    </tr>\n",
       "    <tr>\n",
       "      <th>1974-05-27</th>\n",
       "      <td>332.79</td>\n",
       "    </tr>\n",
       "    <tr>\n",
       "      <th>1974-05-28</th>\n",
       "      <td>332.43</td>\n",
       "    </tr>\n",
       "    <tr>\n",
       "      <th>1974-05-29</th>\n",
       "      <td>332.60</td>\n",
       "    </tr>\n",
       "    <tr>\n",
       "      <th>1974-05-30</th>\n",
       "      <td>333.30</td>\n",
       "    </tr>\n",
       "    <tr>\n",
       "      <th>1974-05-31</th>\n",
       "      <td>333.25</td>\n",
       "    </tr>\n",
       "    <tr>\n",
       "      <th>1974-06-04</th>\n",
       "      <td>333.08</td>\n",
       "    </tr>\n",
       "    <tr>\n",
       "      <th>1974-06-05</th>\n",
       "      <td>332.75</td>\n",
       "    </tr>\n",
       "    <tr>\n",
       "      <th>1974-06-06</th>\n",
       "      <td>331.83</td>\n",
       "    </tr>\n",
       "    <tr>\n",
       "      <th>1974-06-07</th>\n",
       "      <td>332.09</td>\n",
       "    </tr>\n",
       "    <tr>\n",
       "      <th>1974-06-08</th>\n",
       "      <td>332.00</td>\n",
       "    </tr>\n",
       "    <tr>\n",
       "      <th>1974-06-09</th>\n",
       "      <td>332.36</td>\n",
       "    </tr>\n",
       "    <tr>\n",
       "      <th>1974-06-10</th>\n",
       "      <td>332.25</td>\n",
       "    </tr>\n",
       "    <tr>\n",
       "      <th>1974-06-11</th>\n",
       "      <td>332.28</td>\n",
       "    </tr>\n",
       "    <tr>\n",
       "      <th>1974-06-12</th>\n",
       "      <td>332.03</td>\n",
       "    </tr>\n",
       "    <tr>\n",
       "      <th>1974-06-13</th>\n",
       "      <td>331.85</td>\n",
       "    </tr>\n",
       "    <tr>\n",
       "      <th>1974-06-14</th>\n",
       "      <td>332.63</td>\n",
       "    </tr>\n",
       "    <tr>\n",
       "      <th>1974-06-15</th>\n",
       "      <td>332.02</td>\n",
       "    </tr>\n",
       "    <tr>\n",
       "      <th>1974-06-16</th>\n",
       "      <td>332.10</td>\n",
       "    </tr>\n",
       "    <tr>\n",
       "      <th>1974-06-17</th>\n",
       "      <td>332.18</td>\n",
       "    </tr>\n",
       "    <tr>\n",
       "      <th>1974-06-18</th>\n",
       "      <td>332.74</td>\n",
       "    </tr>\n",
       "    <tr>\n",
       "      <th>1974-06-19</th>\n",
       "      <td>332.33</td>\n",
       "    </tr>\n",
       "    <tr>\n",
       "      <th>1974-06-20</th>\n",
       "      <td>332.35</td>\n",
       "    </tr>\n",
       "    <tr>\n",
       "      <th>1974-06-21</th>\n",
       "      <td>332.53</td>\n",
       "    </tr>\n",
       "    <tr>\n",
       "      <th>1974-06-22</th>\n",
       "      <td>332.35</td>\n",
       "    </tr>\n",
       "    <tr>\n",
       "      <th>1974-06-23</th>\n",
       "      <td>332.25</td>\n",
       "    </tr>\n",
       "    <tr>\n",
       "      <th>1974-06-24</th>\n",
       "      <td>331.44</td>\n",
       "    </tr>\n",
       "    <tr>\n",
       "      <th>1974-06-25</th>\n",
       "      <td>332.08</td>\n",
       "    </tr>\n",
       "    <tr>\n",
       "      <th>1974-06-27</th>\n",
       "      <td>331.28</td>\n",
       "    </tr>\n",
       "    <tr>\n",
       "      <th>1974-06-28</th>\n",
       "      <td>331.61</td>\n",
       "    </tr>\n",
       "    <tr>\n",
       "      <th>1974-06-30</th>\n",
       "      <td>331.85</td>\n",
       "    </tr>\n",
       "    <tr>\n",
       "      <th>1974-07-02</th>\n",
       "      <td>331.44</td>\n",
       "    </tr>\n",
       "    <tr>\n",
       "      <th>1974-07-03</th>\n",
       "      <td>332.06</td>\n",
       "    </tr>\n",
       "    <tr>\n",
       "      <th>1974-07-04</th>\n",
       "      <td>331.65</td>\n",
       "    </tr>\n",
       "    <tr>\n",
       "      <th>1974-07-05</th>\n",
       "      <td>331.58</td>\n",
       "    </tr>\n",
       "    <tr>\n",
       "      <th>1974-07-06</th>\n",
       "      <td>331.53</td>\n",
       "    </tr>\n",
       "    <tr>\n",
       "      <th>1974-07-08</th>\n",
       "      <td>331.57</td>\n",
       "    </tr>\n",
       "    <tr>\n",
       "      <th>1974-07-09</th>\n",
       "      <td>331.65</td>\n",
       "    </tr>\n",
       "    <tr>\n",
       "      <th>1974-07-10</th>\n",
       "      <td>331.47</td>\n",
       "    </tr>\n",
       "    <tr>\n",
       "      <th>1974-07-11</th>\n",
       "      <td>331.55</td>\n",
       "    </tr>\n",
       "    <tr>\n",
       "      <th>1974-07-12</th>\n",
       "      <td>331.26</td>\n",
       "    </tr>\n",
       "    <tr>\n",
       "      <th>1974-07-13</th>\n",
       "      <td>331.27</td>\n",
       "    </tr>\n",
       "    <tr>\n",
       "      <th>1974-07-15</th>\n",
       "      <td>331.04</td>\n",
       "    </tr>\n",
       "  </tbody>\n",
       "</table>\n",
       "</div>"
      ],
      "text/plain": [
       "            CO2 molfrac (ppm)\n",
       "date                         \n",
       "1974-05-17             333.38\n",
       "1974-05-18             333.11\n",
       "1974-05-19             333.46\n",
       "1974-05-20             333.64\n",
       "1974-05-21             333.50\n",
       "1974-05-22             333.21\n",
       "1974-05-23             333.05\n",
       "1974-05-26             333.32\n",
       "1974-05-27             332.79\n",
       "1974-05-28             332.43\n",
       "1974-05-29             332.60\n",
       "1974-05-30             333.30\n",
       "1974-05-31             333.25\n",
       "1974-06-04             333.08\n",
       "1974-06-05             332.75\n",
       "1974-06-06             331.83\n",
       "1974-06-07             332.09\n",
       "1974-06-08             332.00\n",
       "1974-06-09             332.36\n",
       "1974-06-10             332.25\n",
       "1974-06-11             332.28\n",
       "1974-06-12             332.03\n",
       "1974-06-13             331.85\n",
       "1974-06-14             332.63\n",
       "1974-06-15             332.02\n",
       "1974-06-16             332.10\n",
       "1974-06-17             332.18\n",
       "1974-06-18             332.74\n",
       "1974-06-19             332.33\n",
       "1974-06-20             332.35\n",
       "1974-06-21             332.53\n",
       "1974-06-22             332.35\n",
       "1974-06-23             332.25\n",
       "1974-06-24             331.44\n",
       "1974-06-25             332.08\n",
       "1974-06-27             331.28\n",
       "1974-06-28             331.61\n",
       "1974-06-30             331.85\n",
       "1974-07-02             331.44\n",
       "1974-07-03             332.06\n",
       "1974-07-04             331.65\n",
       "1974-07-05             331.58\n",
       "1974-07-06             331.53\n",
       "1974-07-08             331.57\n",
       "1974-07-09             331.65\n",
       "1974-07-10             331.47\n",
       "1974-07-11             331.55\n",
       "1974-07-12             331.26\n",
       "1974-07-13             331.27\n",
       "1974-07-15             331.04"
      ]
     },
     "execution_count": 5,
     "metadata": {},
     "output_type": "execute_result"
    }
   ],
   "source": [
    "import matplotlib.pyplot as plt\n",
    "\n",
    "# Plot the CO2 values\n",
    "df.plot(y='CO2 molfrac (ppm)', legend=False, title='Daily CO2 Levels at Mauna Loa')\n",
    "plt.ylabel('CO2 (ppm)')\n",
    "plt.xlabel('Date')\n",
    "plt.tight_layout()\n",
    "plt.show()\n",
    "\n",
    "# Check the top 50 values of the DataFrame\n",
    "df.head(50)\n"
   ]
  },
  {
   "cell_type": "markdown",
   "id": "1ffcb51b",
   "metadata": {},
   "source": [
    "We're missing some dates 😱 Even though we don't have any obvious `NaN` values, there are missing dates from our index. This is something you need to be __really__ careful about with TS data.\n",
    "\n",
    "Let's work out how many days we're missing. Subtracting your end date (the `max()` of your `index`) from your start date (the `min()` of your `index`)to see how many days __should__ between the two."
   ]
  },
  {
   "cell_type": "code",
   "execution_count": 6,
   "id": "3b0049d8",
   "metadata": {
    "execution": {
     "iopub.execute_input": "2025-05-15T12:25:08.488472Z",
     "iopub.status.busy": "2025-05-15T12:25:08.488132Z",
     "iopub.status.idle": "2025-05-15T12:25:08.495022Z",
     "shell.execute_reply": "2025-05-15T12:25:08.493247Z",
     "shell.execute_reply.started": "2025-05-15T12:25:08.488444Z"
    },
    "tags": [
     "challengify"
    ]
   },
   "outputs": [],
   "source": [
    "# Calculate the expected total number of days between the start and end dates\n",
    "total_days = (df.index.max() - df.index.min()).days \n",
    "\n",
    "# Actual number of records in the DataFrame\n",
    "actual_days = len(df)"
   ]
  },
  {
   "cell_type": "markdown",
   "id": "870b03f8",
   "metadata": {},
   "source": [
    "How does this differ from the number of days we __actually__ have in our DataFrame? Save your answer to a variable `missing`"
   ]
  },
  {
   "cell_type": "code",
   "execution_count": 7,
   "id": "9e0f34d6",
   "metadata": {
    "execution": {
     "iopub.execute_input": "2025-05-15T12:25:08.496169Z",
     "iopub.status.busy": "2025-05-15T12:25:08.495884Z",
     "iopub.status.idle": "2025-05-15T12:25:08.509542Z",
     "shell.execute_reply": "2025-05-15T12:25:08.506505Z",
     "shell.execute_reply.started": "2025-05-15T12:25:08.496148Z"
    },
    "tags": [
     "challengify"
    ]
   },
   "outputs": [
    {
     "data": {
      "text/plain": [
       "2861"
      ]
     },
     "execution_count": 7,
     "metadata": {},
     "output_type": "execute_result"
    }
   ],
   "source": [
    "# Number of missing days\n",
    "missing = total_days - actual_days\n",
    "missing"
   ]
  },
  {
   "cell_type": "code",
   "execution_count": 8,
   "id": "02a3e09f",
   "metadata": {
    "execution": {
     "iopub.execute_input": "2025-05-15T12:25:08.512902Z",
     "iopub.status.busy": "2025-05-15T12:25:08.511745Z",
     "iopub.status.idle": "2025-05-15T12:25:09.089567Z",
     "shell.execute_reply": "2025-05-15T12:25:09.087643Z",
     "shell.execute_reply.started": "2025-05-15T12:25:08.512855Z"
    }
   },
   "outputs": [
    {
     "name": "stdout",
     "output_type": "stream",
     "text": [
      "\n",
      "\u001b[1m============================= test session starts ==============================\u001b[0m\n",
      "platform linux -- Python 3.12.9, pytest-8.3.4, pluggy-1.5.0 -- /home/saranjthilak92/.pyenv/versions/3.12.9/envs/lewagon/bin/python\n",
      "cachedir: .pytest_cache\n",
      "rootdir: /home/saranjthilak92/code/saranjthilak/05-ML/09-Time-Series/data-arima-101/tests\n",
      "plugins: typeguard-4.4.2, anyio-4.8.0\n",
      "\u001b[1mcollecting ... \u001b[0mcollected 1 item\n",
      "\n",
      "test_missing.py::TestMissing::test_missing \u001b[32mPASSED\u001b[0m\u001b[32m                        [100%]\u001b[0m\n",
      "\n",
      "\u001b[32m============================== \u001b[32m\u001b[1m1 passed\u001b[0m\u001b[32m in 0.02s\u001b[0m\u001b[32m ===============================\u001b[0m\n",
      "\n",
      "\n",
      "💯 You can commit your code:\n",
      "\n",
      "\u001b[1;32mgit\u001b[39m add tests/missing.pickle\n",
      "\n",
      "\u001b[32mgit\u001b[39m commit -m \u001b[33m'Completed missing step'\u001b[39m\n",
      "\n",
      "\u001b[32mgit\u001b[39m push origin master\n",
      "\n"
     ]
    }
   ],
   "source": [
    "from nbresult import ChallengeResult\n",
    "\n",
    "result = ChallengeResult('missing',\n",
    "                         missing = missing)\n",
    "result.write()\n",
    "print(result.check())"
   ]
  },
  {
   "cell_type": "markdown",
   "id": "c4e2ee3e",
   "metadata": {},
   "source": [
    "Let's actually see where are missing values lie. Use `pd.date_range` to create the index we __should__ have. Then use the DataFrame's `.reindex()` function with this new date range to see where our null values actually are in our first 100 entries!"
   ]
  },
  {
   "cell_type": "code",
   "execution_count": 9,
   "id": "ad14c0d7",
   "metadata": {
    "execution": {
     "iopub.execute_input": "2025-05-15T12:25:09.092232Z",
     "iopub.status.busy": "2025-05-15T12:25:09.091729Z",
     "iopub.status.idle": "2025-05-15T12:25:09.115762Z",
     "shell.execute_reply": "2025-05-15T12:25:09.113597Z",
     "shell.execute_reply.started": "2025-05-15T12:25:09.092190Z"
    },
    "tags": [
     "challengify"
    ]
   },
   "outputs": [
    {
     "data": {
      "text/html": [
       "<div>\n",
       "<style scoped>\n",
       "    .dataframe tbody tr th:only-of-type {\n",
       "        vertical-align: middle;\n",
       "    }\n",
       "\n",
       "    .dataframe tbody tr th {\n",
       "        vertical-align: top;\n",
       "    }\n",
       "\n",
       "    .dataframe thead th {\n",
       "        text-align: right;\n",
       "    }\n",
       "</style>\n",
       "<table border=\"1\" class=\"dataframe\">\n",
       "  <thead>\n",
       "    <tr style=\"text-align: right;\">\n",
       "      <th></th>\n",
       "      <th>CO2 molfrac (ppm)</th>\n",
       "    </tr>\n",
       "  </thead>\n",
       "  <tbody>\n",
       "    <tr>\n",
       "      <th>1974-05-17</th>\n",
       "      <td>333.38</td>\n",
       "    </tr>\n",
       "    <tr>\n",
       "      <th>1974-05-18</th>\n",
       "      <td>333.11</td>\n",
       "    </tr>\n",
       "    <tr>\n",
       "      <th>1974-05-19</th>\n",
       "      <td>333.46</td>\n",
       "    </tr>\n",
       "    <tr>\n",
       "      <th>1974-05-20</th>\n",
       "      <td>333.64</td>\n",
       "    </tr>\n",
       "    <tr>\n",
       "      <th>1974-05-21</th>\n",
       "      <td>333.50</td>\n",
       "    </tr>\n",
       "    <tr>\n",
       "      <th>...</th>\n",
       "      <td>...</td>\n",
       "    </tr>\n",
       "    <tr>\n",
       "      <th>1974-08-20</th>\n",
       "      <td>329.07</td>\n",
       "    </tr>\n",
       "    <tr>\n",
       "      <th>1974-08-21</th>\n",
       "      <td>329.41</td>\n",
       "    </tr>\n",
       "    <tr>\n",
       "      <th>1974-08-22</th>\n",
       "      <td>NaN</td>\n",
       "    </tr>\n",
       "    <tr>\n",
       "      <th>1974-08-23</th>\n",
       "      <td>328.76</td>\n",
       "    </tr>\n",
       "    <tr>\n",
       "      <th>1974-08-24</th>\n",
       "      <td>328.47</td>\n",
       "    </tr>\n",
       "  </tbody>\n",
       "</table>\n",
       "<p>100 rows × 1 columns</p>\n",
       "</div>"
      ],
      "text/plain": [
       "            CO2 molfrac (ppm)\n",
       "1974-05-17             333.38\n",
       "1974-05-18             333.11\n",
       "1974-05-19             333.46\n",
       "1974-05-20             333.64\n",
       "1974-05-21             333.50\n",
       "...                       ...\n",
       "1974-08-20             329.07\n",
       "1974-08-21             329.41\n",
       "1974-08-22                NaN\n",
       "1974-08-23             328.76\n",
       "1974-08-24             328.47\n",
       "\n",
       "[100 rows x 1 columns]"
      ]
     },
     "execution_count": 9,
     "metadata": {},
     "output_type": "execute_result"
    }
   ],
   "source": [
    "# Create the full date range from start to end\n",
    "full_date_range = pd.date_range(start=df.index.min(), end=df.index.max(), freq='D')\n",
    "\n",
    "# Reindex the DataFrame using the full date range\n",
    "df_full = df.reindex(full_date_range)\n",
    "\n",
    "# Check the first 100 entries for missing values\n",
    "df_full.head(100)\n"
   ]
  },
  {
   "cell_type": "markdown",
   "id": "5c840a64",
   "metadata": {},
   "source": [
    "We simplest option here is to use the very useful `pd.interpolate(\"linear\")` function to fill these in for us. Try running the cell below to see what it does:"
   ]
  },
  {
   "cell_type": "code",
   "execution_count": 10,
   "id": "c88409aa",
   "metadata": {
    "execution": {
     "iopub.execute_input": "2025-05-15T12:25:09.118454Z",
     "iopub.status.busy": "2025-05-15T12:25:09.117941Z",
     "iopub.status.idle": "2025-05-15T12:25:09.465638Z",
     "shell.execute_reply": "2025-05-15T12:25:09.464090Z",
     "shell.execute_reply.started": "2025-05-15T12:25:09.118411Z"
    }
   },
   "outputs": [
    {
     "data": {
      "text/plain": [
       "<Axes: xlabel='date'>"
      ]
     },
     "execution_count": 10,
     "metadata": {},
     "output_type": "execute_result"
    },
    {
     "data": {
      "image/png": "[encoded data removed]",
      "text/plain": [
       "<Figure size 640x480 with 1 Axes>"
      ]
     },
     "metadata": {},
     "output_type": "display_data"
    }
   ],
   "source": [
    "df[\"CO2 molfrac (ppm)\"][:100].interpolate(\"linear\").plot()"
   ]
  },
  {
   "cell_type": "markdown",
   "id": "ed3f48b5",
   "metadata": {},
   "source": [
    "Interpolation uses a simple linear method to connect the dots for us 😊 Obviously this is making some assumptions that aren't perfectand we don't actually need to have daily samples - instead we'll `resample` our DataFrame on a monthly basis and try to model that. Try using the `.resample()` function to create a DataFrame with each month's average and name it `monthly`. See [docs](https://pandas.pydata.org/docs/reference/api/pandas.DataFrame.resample.html) here."
   ]
  },
  {
   "cell_type": "code",
   "execution_count": 11,
   "id": "ff9f2ae3",
   "metadata": {
    "execution": {
     "iopub.execute_input": "2025-05-15T12:25:09.467539Z",
     "iopub.status.busy": "2025-05-15T12:25:09.467052Z",
     "iopub.status.idle": "2025-05-15T12:25:09.490779Z",
     "shell.execute_reply": "2025-05-15T12:25:09.489498Z",
     "shell.execute_reply.started": "2025-05-15T12:25:09.467499Z"
    },
    "tags": [
     "challengify"
    ]
   },
   "outputs": [
    {
     "name": "stderr",
     "output_type": "stream",
     "text": [
      "/tmp/ipykernel_7407/2936825518.py:2: FutureWarning: 'M' is deprecated and will be removed in a future version, please use 'ME' instead.\n",
      "  monthly = df_full.resample('M').mean()\n"
     ]
    },
    {
     "data": {
      "text/html": [
       "<div>\n",
       "<style scoped>\n",
       "    .dataframe tbody tr th:only-of-type {\n",
       "        vertical-align: middle;\n",
       "    }\n",
       "\n",
       "    .dataframe tbody tr th {\n",
       "        vertical-align: top;\n",
       "    }\n",
       "\n",
       "    .dataframe thead th {\n",
       "        text-align: right;\n",
       "    }\n",
       "</style>\n",
       "<table border=\"1\" class=\"dataframe\">\n",
       "  <thead>\n",
       "    <tr style=\"text-align: right;\">\n",
       "      <th></th>\n",
       "      <th>CO2 molfrac (ppm)</th>\n",
       "    </tr>\n",
       "  </thead>\n",
       "  <tbody>\n",
       "    <tr>\n",
       "      <th>1974-05-31</th>\n",
       "      <td>333.156923</td>\n",
       "    </tr>\n",
       "    <tr>\n",
       "      <th>1974-06-30</th>\n",
       "      <td>332.170400</td>\n",
       "    </tr>\n",
       "    <tr>\n",
       "      <th>1974-07-31</th>\n",
       "      <td>331.110000</td>\n",
       "    </tr>\n",
       "    <tr>\n",
       "      <th>1974-08-31</th>\n",
       "      <td>329.105769</td>\n",
       "    </tr>\n",
       "    <tr>\n",
       "      <th>1974-09-30</th>\n",
       "      <td>327.303182</td>\n",
       "    </tr>\n",
       "  </tbody>\n",
       "</table>\n",
       "</div>"
      ],
      "text/plain": [
       "            CO2 molfrac (ppm)\n",
       "1974-05-31         333.156923\n",
       "1974-06-30         332.170400\n",
       "1974-07-31         331.110000\n",
       "1974-08-31         329.105769\n",
       "1974-09-30         327.303182"
      ]
     },
     "execution_count": 11,
     "metadata": {},
     "output_type": "execute_result"
    }
   ],
   "source": [
    "# Resample the data to get the monthly average CO2 values\n",
    "monthly = df_full.resample('M').mean()\n",
    "\n",
    "monthly.head()\n"
   ]
  },
  {
   "cell_type": "markdown",
   "id": "0c2c60e7",
   "metadata": {},
   "source": [
    "If you __still__ have any remaining null values, you can use the `interpolate` to fill them in. Plot out your resampled data:"
   ]
  },
  {
   "cell_type": "code",
   "execution_count": 12,
   "id": "f8a06aa5",
   "metadata": {
    "execution": {
     "iopub.execute_input": "2025-05-15T12:25:09.493231Z",
     "iopub.status.busy": "2025-05-15T12:25:09.492713Z",
     "iopub.status.idle": "2025-05-15T12:25:09.903191Z",
     "shell.execute_reply": "2025-05-15T12:25:09.901981Z",
     "shell.execute_reply.started": "2025-05-15T12:25:09.493196Z"
    },
    "tags": [
     "challengify"
    ]
   },
   "outputs": [
    {
     "data": {
      "image/png": "[encoded data removed]",
      "text/plain": [
       "<Figure size 640x480 with 1 Axes>"
      ]
     },
     "metadata": {},
     "output_type": "display_data"
    }
   ],
   "source": [
    "# Fill remaining null values using interpolation\n",
    "monthly_interpolated = monthly.interpolate()\n",
    "\n",
    "# Plot the resampled and interpolated monthly data\n",
    "monthly_interpolated.plot(y='CO2 molfrac (ppm)', legend=False, title='Monthly Average CO2 Levels at Mauna Loa')\n",
    "plt.ylabel('CO2 (ppm)')\n",
    "plt.xlabel('Date')\n",
    "plt.tight_layout()\n",
    "plt.show()\n"
   ]
  },
  {
   "cell_type": "code",
   "execution_count": 13,
   "id": "53f1702e",
   "metadata": {
    "execution": {
     "iopub.execute_input": "2025-05-15T12:25:09.906190Z",
     "iopub.status.busy": "2025-05-15T12:25:09.904965Z",
     "iopub.status.idle": "2025-05-15T12:25:10.200948Z",
     "shell.execute_reply": "2025-05-15T12:25:10.199717Z",
     "shell.execute_reply.started": "2025-05-15T12:25:09.906151Z"
    }
   },
   "outputs": [
    {
     "data": {
      "text/plain": [
       "<Axes: >"
      ]
     },
     "execution_count": 13,
     "metadata": {},
     "output_type": "execute_result"
    },
    {
     "data": {
      "image/png": "[encoded data removed]",
      "text/plain": [
       "<Figure size 640x480 with 1 Axes>"
      ]
     },
     "metadata": {},
     "output_type": "display_data"
    }
   ],
   "source": [
    "monthly[-300:].plot()"
   ]
  },
  {
   "cell_type": "code",
   "execution_count": 14,
   "id": "d38f4674",
   "metadata": {
    "execution": {
     "iopub.execute_input": "2025-05-15T12:25:10.206057Z",
     "iopub.status.busy": "2025-05-15T12:25:10.205636Z",
     "iopub.status.idle": "2025-05-15T12:25:10.216469Z",
     "shell.execute_reply": "2025-05-15T12:25:10.214502Z",
     "shell.execute_reply.started": "2025-05-15T12:25:10.206032Z"
    }
   },
   "outputs": [
    {
     "name": "stderr",
     "output_type": "stream",
     "text": [
      "/tmp/ipykernel_7407/4232856447.py:1: FutureWarning: Series.__getitem__ treating keys as positions is deprecated. In a future version, integer keys will always be treated as labels (consistent with DataFrame behavior). To access a value by position, use `ser.iloc[pos]`\n",
      "  monthly[\"CO2 molfrac (ppm)\"][0]\n"
     ]
    },
    {
     "data": {
      "text/plain": [
       "333.1569230769231"
      ]
     },
     "execution_count": 14,
     "metadata": {},
     "output_type": "execute_result"
    }
   ],
   "source": [
    "monthly[\"CO2 molfrac (ppm)\"][0]"
   ]
  },
  {
   "cell_type": "code",
   "execution_count": 15,
   "id": "daa9f700",
   "metadata": {
    "execution": {
     "iopub.execute_input": "2025-05-15T12:25:10.223317Z",
     "iopub.status.busy": "2025-05-15T12:25:10.222826Z",
     "iopub.status.idle": "2025-05-15T12:25:11.287810Z",
     "shell.execute_reply": "2025-05-15T12:25:11.286954Z",
     "shell.execute_reply.started": "2025-05-15T12:25:10.223289Z"
    }
   },
   "outputs": [
    {
     "name": "stdout",
     "output_type": "stream",
     "text": [
      "\n",
      "\u001b[1m============================= test session starts ==============================\u001b[0m\n",
      "platform linux -- Python 3.12.9, pytest-8.3.4, pluggy-1.5.0 -- /home/saranjthilak92/.pyenv/versions/3.12.9/envs/lewagon/bin/python\n",
      "cachedir: .pytest_cache\n",
      "rootdir: /home/saranjthilak92/code/saranjthilak/05-ML/09-Time-Series/data-arima-101/tests\n",
      "plugins: typeguard-4.4.2, anyio-4.8.0\n",
      "\u001b[1mcollecting ... \u001b[0mcollected 2 items\n",
      "\n",
      "test_monthly.py::TestMonthly::test_first_value \u001b[32mPASSED\u001b[0m\u001b[32m                    [ 50%]\u001b[0m\n",
      "test_monthly.py::TestMonthly::test_missing \u001b[32mPASSED\u001b[0m\u001b[33m                        [100%]\u001b[0m\n",
      "\n",
      "\u001b[33m=============================== warnings summary ===============================\u001b[0m\n",
      "test_monthly.py::TestMonthly::test_first_value\n",
      "  /home/saranjthilak92/code/saranjthilak/05-ML/09-Time-Series/data-arima-101/tests/test_monthly.py:7: FutureWarning: Series.__getitem__ treating keys as positions is deprecated. In a future version, integer keys will always be treated as labels (consistent with DataFrame behavior). To access a value by position, use `ser.iloc[pos]`\n",
      "    self.assertAlmostEqual(self.result.monthly[\"CO2 molfrac (ppm)\"][0],\n",
      "\n",
      "-- Docs: https://docs.pytest.org/en/stable/how-to/capture-warnings.html\n",
      "\u001b[33m========================= \u001b[32m2 passed\u001b[0m, \u001b[33m\u001b[1m1 warning\u001b[0m\u001b[33m in 0.53s\u001b[0m\u001b[33m =========================\u001b[0m\n",
      "\n",
      "\n",
      "💯 You can commit your code:\n",
      "\n",
      "\u001b[1;32mgit\u001b[39m add tests/monthly.pickle\n",
      "\n",
      "\u001b[32mgit\u001b[39m commit -m \u001b[33m'Completed monthly step'\u001b[39m\n",
      "\n",
      "\u001b[32mgit\u001b[39m push origin master\n",
      "\n"
     ]
    }
   ],
   "source": [
    "from nbresult import ChallengeResult\n",
    "\n",
    "result = ChallengeResult('monthly',\n",
    "                         monthly = monthly)\n",
    "result.write()\n",
    "print(result.check())"
   ]
  },
  {
   "cell_type": "markdown",
   "id": "b9212db9",
   "metadata": {},
   "source": [
    "## Train test split"
   ]
  },
  {
   "cell_type": "markdown",
   "id": "f601b5e5",
   "metadata": {},
   "source": [
    "Next up we need to split into a train and test set (we'll do an 80:20 split). Be cautious when doing this - we need our sets to be __continuous__!"
   ]
  },
  {
   "cell_type": "code",
   "execution_count": 16,
   "id": "ceedada1",
   "metadata": {
    "execution": {
     "iopub.execute_input": "2025-05-15T12:25:11.289377Z",
     "iopub.status.busy": "2025-05-15T12:25:11.288728Z",
     "iopub.status.idle": "2025-05-15T12:25:11.293779Z",
     "shell.execute_reply": "2025-05-15T12:25:11.292792Z",
     "shell.execute_reply.started": "2025-05-15T12:25:11.289355Z"
    },
    "tags": [
     "challengify"
    ]
   },
   "outputs": [],
   "source": [
    "# Determine the index for 80% split\n",
    "split_index = int(len(monthly_interpolated) * 0.8)\n",
    "\n",
    "# Create train and test sets\n",
    "train = monthly_interpolated.iloc[:split_index]\n",
    "test = monthly_interpolated.iloc[split_index:]\n"
   ]
  },
  {
   "cell_type": "markdown",
   "id": "74a6aaa2",
   "metadata": {},
   "source": [
    "Our data preparation is almost done. Before we start decomposing and modelling though, we should come up with a baseline to see how our model performs. \n",
    "\n",
    "The typical baselines we'd pick is just to guess the last available value to us. In our case, this is simply the final point in our `train` DataFrame."
   ]
  },
  {
   "cell_type": "markdown",
   "id": "e3cc5afd",
   "metadata": {},
   "source": [
    "In your `test` DataFrame, create a column called `naive_preds` and set it to be equal to our last available data point in `train`\n"
   ]
  },
  {
   "cell_type": "code",
   "execution_count": 17,
   "id": "189be475",
   "metadata": {
    "execution": {
     "iopub.execute_input": "2025-05-15T12:25:11.295758Z",
     "iopub.status.busy": "2025-05-15T12:25:11.295031Z",
     "iopub.status.idle": "2025-05-15T12:25:11.306282Z",
     "shell.execute_reply": "2025-05-15T12:25:11.305375Z",
     "shell.execute_reply.started": "2025-05-15T12:25:11.295734Z"
    },
    "tags": [
     "challengify"
    ]
   },
   "outputs": [
    {
     "name": "stderr",
     "output_type": "stream",
     "text": [
      "/tmp/ipykernel_7407/3559420730.py:5: SettingWithCopyWarning: \n",
      "A value is trying to be set on a copy of a slice from a DataFrame.\n",
      "Try using .loc[row_indexer,col_indexer] = value instead\n",
      "\n",
      "See the caveats in the documentation: https://pandas.pydata.org/pandas-docs/stable/user_guide/indexing.html#returning-a-view-versus-a-copy\n",
      "  test[\"naive_preds\"] = last_train_value\n"
     ]
    }
   ],
   "source": [
    "# Get the last value from the training set\n",
    "last_train_value = train[\"CO2 molfrac (ppm)\"].iloc[-1]\n",
    "\n",
    "# Create a column of naive predictions in the test set\n",
    "test[\"naive_preds\"] = last_train_value\n"
   ]
  },
  {
   "cell_type": "markdown",
   "id": "547418e8",
   "metadata": {},
   "source": [
    "Once you have this, calculate the mean absolute error between the two columns and set this as your `baseline_mae`."
   ]
  },
  {
   "cell_type": "code",
   "execution_count": 18,
   "id": "98736b7b",
   "metadata": {
    "execution": {
     "iopub.execute_input": "2025-05-15T12:25:11.307754Z",
     "iopub.status.busy": "2025-05-15T12:25:11.307500Z",
     "iopub.status.idle": "2025-05-15T12:25:11.932761Z",
     "shell.execute_reply": "2025-05-15T12:25:11.929561Z",
     "shell.execute_reply.started": "2025-05-15T12:25:11.307734Z"
    },
    "tags": [
     "challengify"
    ]
   },
   "outputs": [
    {
     "data": {
      "text/plain": [
       "14.503777783267303"
      ]
     },
     "execution_count": 18,
     "metadata": {},
     "output_type": "execute_result"
    }
   ],
   "source": [
    "from sklearn.metrics import mean_absolute_error\n",
    "\n",
    "# Calculate the mean absolute error between actual and naive predictions\n",
    "baseline_mae = mean_absolute_error(test[\"CO2 molfrac (ppm)\"], test[\"naive_preds\"])\n",
    "\n",
    "baseline_mae\n"
   ]
  },
  {
   "cell_type": "code",
   "execution_count": 19,
   "id": "9a42d7f9",
   "metadata": {
    "execution": {
     "iopub.execute_input": "2025-05-15T12:25:11.934577Z",
     "iopub.status.busy": "2025-05-15T12:25:11.934144Z",
     "iopub.status.idle": "2025-05-15T12:25:13.004051Z",
     "shell.execute_reply": "2025-05-15T12:25:13.002711Z",
     "shell.execute_reply.started": "2025-05-15T12:25:11.934553Z"
    }
   },
   "outputs": [
    {
     "name": "stdout",
     "output_type": "stream",
     "text": [
      "\n",
      "\u001b[1m============================= test session starts ==============================\u001b[0m\n",
      "platform linux -- Python 3.12.9, pytest-8.3.4, pluggy-1.5.0 -- /home/saranjthilak92/.pyenv/versions/3.12.9/envs/lewagon/bin/python\n",
      "cachedir: .pytest_cache\n",
      "rootdir: /home/saranjthilak92/code/saranjthilak/05-ML/09-Time-Series/data-arima-101/tests\n",
      "plugins: typeguard-4.4.2, anyio-4.8.0\n",
      "\u001b[1mcollecting ... \u001b[0mcollected 3 items\n",
      "\n",
      "test_baseline.py::TestBaseline::test_baseline_mae \u001b[32mPASSED\u001b[0m\u001b[32m                 [ 33%]\u001b[0m\n",
      "test_baseline.py::TestBaseline::test_first_value \u001b[32mPASSED\u001b[0m\u001b[32m                  [ 66%]\u001b[0m\n",
      "test_baseline.py::TestBaseline::test_missing \u001b[32mPASSED\u001b[0m\u001b[33m                      [100%]\u001b[0m\n",
      "\n",
      "\u001b[33m=============================== warnings summary ===============================\u001b[0m\n",
      "test_baseline.py::TestBaseline::test_first_value\n",
      "  /home/saranjthilak92/code/saranjthilak/05-ML/09-Time-Series/data-arima-101/tests/test_baseline.py:8: FutureWarning: Series.__getitem__ treating keys as positions is deprecated. In a future version, integer keys will always be treated as labels (consistent with DataFrame behavior). To access a value by position, use `ser.iloc[pos]`\n",
      "    self.assertAlmostEqual(self.result.test[\"naive_preds\"][0],\n",
      "\n",
      "-- Docs: https://docs.pytest.org/en/stable/how-to/capture-warnings.html\n",
      "\u001b[33m========================= \u001b[32m3 passed\u001b[0m, \u001b[33m\u001b[1m1 warning\u001b[0m\u001b[33m in 0.54s\u001b[0m\u001b[33m =========================\u001b[0m\n",
      "\n",
      "\n",
      "💯 You can commit your code:\n",
      "\n",
      "\u001b[1;32mgit\u001b[39m add tests/baseline.pickle\n",
      "\n",
      "\u001b[32mgit\u001b[39m commit -m \u001b[33m'Completed baseline step'\u001b[39m\n",
      "\n",
      "\u001b[32mgit\u001b[39m push origin master\n",
      "\n"
     ]
    }
   ],
   "source": [
    "from nbresult import ChallengeResult\n",
    "\n",
    "result = ChallengeResult('baseline',\n",
    "                         test = test,\n",
    "                         baseline_mae = baseline_mae)\n",
    "result.write()\n",
    "print(result.check())"
   ]
  },
  {
   "cell_type": "markdown",
   "id": "49f23138",
   "metadata": {},
   "source": [
    "## Getting ready to model"
   ]
  },
  {
   "cell_type": "markdown",
   "id": "3aa3190b",
   "metadata": {},
   "source": [
    "With some Time Series models, we can simply throw our data at it and hope that it will decompose it, make it stationary for us and then model it for us (SARIMAX or TBATS are good examples of this), but we're going to go step by step instead. Since we're not relying on a model to remove seasonality and trend for us, we will take care of them ourselves."
   ]
  },
  {
   "cell_type": "markdown",
   "id": "44447bc4",
   "metadata": {},
   "source": [
    "Import the `seasonal_decompose` tool that you saw in the lecture and try both methods on your Time Series (both \"multiplicative\" and \"additive\"). "
   ]
  },
  {
   "cell_type": "code",
   "execution_count": 20,
   "id": "3b4dd88f",
   "metadata": {
    "execution": {
     "iopub.execute_input": "2025-05-15T12:28:58.901517Z",
     "iopub.status.busy": "2025-05-15T12:28:58.900877Z",
     "iopub.status.idle": "2025-05-15T12:28:59.080910Z",
     "shell.execute_reply": "2025-05-15T12:28:59.079627Z",
     "shell.execute_reply.started": "2025-05-15T12:28:58.901427Z"
    },
    "tags": [
     "challengify"
    ]
   },
   "outputs": [],
   "source": [
    "from statsmodels.tsa.seasonal import seasonal_decompose\n",
    "\n",
    "# Perform additive decomposition\n",
    "additive_decomp = seasonal_decompose(monthly_interpolated[\"CO2 molfrac (ppm)\"], model='additive')\n",
    "\n",
    "# Perform multiplicative decomposition\n",
    "multiplicative_decomp = seasonal_decompose(monthly_interpolated[\"CO2 molfrac (ppm)\"], model='multiplicative')\n"
   ]
  },
  {
   "cell_type": "markdown",
   "id": "8f9c170d",
   "metadata": {},
   "source": [
    "Plot the residuals (access the `.resid` attribute) from both and remember - we want the one that looks as __non-influenced__ by time as possible"
   ]
  },
  {
   "cell_type": "code",
   "execution_count": 21,
   "id": "b8e156d4",
   "metadata": {
    "execution": {
     "iopub.execute_input": "2025-05-15T12:31:05.850572Z",
     "iopub.status.busy": "2025-05-15T12:31:05.848779Z",
     "iopub.status.idle": "2025-05-15T12:31:06.568230Z",
     "shell.execute_reply": "2025-05-15T12:31:06.567264Z",
     "shell.execute_reply.started": "2025-05-15T12:31:05.850525Z"
    },
    "tags": [
     "challengify"
    ]
   },
   "outputs": [
    {
     "data": {
      "image/png": "[encoded data removed]",
      "text/plain": [
       "<Figure size 1200x500 with 2 Axes>"
      ]
     },
     "metadata": {},
     "output_type": "display_data"
    }
   ],
   "source": [
    "import matplotlib.pyplot as plt\n",
    "\n",
    "# Plot residuals from additive decomposition\n",
    "plt.figure(figsize=(12, 5))\n",
    "plt.subplot(1, 2, 1)\n",
    "additive_decomp.resid.plot(title='Additive Residuals')\n",
    "plt.xlabel('Date')\n",
    "plt.ylabel('Residuals')\n",
    "\n",
    "# Plot residuals from multiplicative decomposition\n",
    "plt.subplot(1, 2, 2)\n",
    "multiplicative_decomp.resid.plot(title='Multiplicative Residuals')\n",
    "plt.xlabel('Date')\n",
    "plt.ylabel('Residuals')\n",
    "\n",
    "plt.tight_layout()\n",
    "plt.show()\n"
   ]
  },
  {
   "cell_type": "markdown",
   "id": "df809555",
   "metadata": {},
   "source": [
    "Since both look reasonably stationary, we'll pick the multiplicative model."
   ]
  },
  {
   "cell_type": "markdown",
   "id": "b39a58c0",
   "metadata": {},
   "source": [
    "Our strategy now is to take out the seasonal component of our time series. \n",
    "\n",
    "How can we do this? 🤔\n",
    "\n",
    "\n",
    "First, create a column called `\"seasonal_component\"`in your `train` DataFrame that is filled with the `.seasonal` component of your time series. \n",
    "\n",
    "After you do this, create a separate, smaller DataFrame that only includes __one year__ of seasonal components (ie. the first 12 rows of your `seasonal components` column). This will be useful for us later on. Name it `seasonal_one_year` and make sure you have a `\"month\"` column equal to the corresponding `index.month` (e.g. you have have a row with the January seasonal component and a 1 next to it). \n",
    "\n",
    "<img src = \"https://wagon-public-datasets.s3.amazonaws.com/data-science-images/05-ML/09-Time-Series/seasonal_component_one.png\">"
   ]
  },
  {
   "cell_type": "code",
   "execution_count": 22,
   "id": "7dc59e8c",
   "metadata": {
    "execution": {
     "iopub.execute_input": "2025-05-15T12:33:27.661274Z",
     "iopub.status.busy": "2025-05-15T12:33:27.660982Z",
     "iopub.status.idle": "2025-05-15T12:33:27.670940Z",
     "shell.execute_reply": "2025-05-15T12:33:27.669473Z",
     "shell.execute_reply.started": "2025-05-15T12:33:27.661254Z"
    },
    "tags": [
     "challengify"
    ]
   },
   "outputs": [
    {
     "name": "stderr",
     "output_type": "stream",
     "text": [
      "/tmp/ipykernel_7407/1819165093.py:2: SettingWithCopyWarning: \n",
      "A value is trying to be set on a copy of a slice from a DataFrame.\n",
      "Try using .loc[row_indexer,col_indexer] = value instead\n",
      "\n",
      "See the caveats in the documentation: https://pandas.pydata.org/pandas-docs/stable/user_guide/indexing.html#returning-a-view-versus-a-copy\n",
      "  train['seasonal_component'] = additive_decomp.seasonal.loc[train.index]\n"
     ]
    }
   ],
   "source": [
    "# Add the seasonal component to the train DataFrame\n",
    "train['seasonal_component'] = additive_decomp.seasonal.loc[train.index]\n",
    "\n",
    "# Create a DataFrame with the first 12 months of seasonal components\n",
    "seasonal_one_year = train['seasonal_component'].head(12).to_frame()\n",
    "\n",
    "# Add a month column from the index\n",
    "seasonal_one_year['month'] = seasonal_one_year.index.month\n"
   ]
  },
  {
   "cell_type": "markdown",
   "id": "be649478",
   "metadata": {},
   "source": [
    "Since this is from a multiplicative model, if we want to __remove__ this seasonal component, we'll need to __divide__ our original time series by these repeating (12-month cycle) values."
   ]
  },
  {
   "cell_type": "code",
   "execution_count": 23,
   "id": "4f06f73e",
   "metadata": {
    "execution": {
     "iopub.execute_input": "2025-05-15T12:33:40.725907Z",
     "iopub.status.busy": "2025-05-15T12:33:40.725630Z",
     "iopub.status.idle": "2025-05-15T12:33:42.189467Z",
     "shell.execute_reply": "2025-05-15T12:33:42.188250Z",
     "shell.execute_reply.started": "2025-05-15T12:33:40.725888Z"
    }
   },
   "outputs": [
    {
     "name": "stdout",
     "output_type": "stream",
     "text": [
      "\n",
      "\u001b[1m============================= test session starts ==============================\u001b[0m\n",
      "platform linux -- Python 3.12.9, pytest-8.3.4, pluggy-1.5.0 -- /home/saranjthilak92/.pyenv/versions/3.12.9/envs/lewagon/bin/python\n",
      "cachedir: .pytest_cache\n",
      "rootdir: /home/saranjthilak92/code/saranjthilak/05-ML/09-Time-Series/data-arima-101/tests\n",
      "plugins: typeguard-4.4.2, anyio-4.8.0\n",
      "\u001b[1mcollecting ... \u001b[0mcollected 2 items\n",
      "\n",
      "test_seasonal.py::TestSeasonal::test_seasonal_column \u001b[32mPASSED\u001b[0m\u001b[32m              [ 50%]\u001b[0m\n",
      "test_seasonal.py::TestSeasonal::test_seasonal_year_shape \u001b[32mPASSED\u001b[0m\u001b[32m          [100%]\u001b[0m\n",
      "\n",
      "\u001b[32m============================== \u001b[32m\u001b[1m2 passed\u001b[0m\u001b[32m in 0.73s\u001b[0m\u001b[32m ===============================\u001b[0m\n",
      "\n",
      "\n",
      "💯 You can commit your code:\n",
      "\n",
      "\u001b[1;32mgit\u001b[39m add tests/seasonal.pickle\n",
      "\n",
      "\u001b[32mgit\u001b[39m commit -m \u001b[33m'Completed seasonal step'\u001b[39m\n",
      "\n",
      "\u001b[32mgit\u001b[39m push origin master\n",
      "\n"
     ]
    }
   ],
   "source": [
    "from nbresult import ChallengeResult\n",
    "\n",
    "result = ChallengeResult('seasonal',\n",
    "                         train = train,\n",
    "                         seasonal = seasonal_one_year)\n",
    "result.write()\n",
    "print(result.check())"
   ]
  },
  {
   "cell_type": "markdown",
   "id": "a1ecae17",
   "metadata": {},
   "source": [
    "Create a new column named `\"seasonal_stripped\"` equal to the value of your original time series divided by the seasonal component."
   ]
  },
  {
   "cell_type": "code",
   "execution_count": null,
   "id": "0856a9a0",
   "metadata": {
    "tags": [
     "challengify"
    ]
   },
   "outputs": [],
   "source": [
    "# YOUR CODE HERE"
   ]
  },
  {
   "cell_type": "markdown",
   "id": "13177106",
   "metadata": {},
   "source": [
    "Plot this new column out:"
   ]
  },
  {
   "cell_type": "code",
   "execution_count": null,
   "id": "6390910e",
   "metadata": {
    "tags": [
     "challengify"
    ]
   },
   "outputs": [],
   "source": [
    "# YOUR CODE HERE"
   ]
  },
  {
   "cell_type": "markdown",
   "id": "78938099",
   "metadata": {},
   "source": [
    "Does it look stationary yet? Discuss with your buddy for the day why or why not."
   ]
  },
  {
   "cell_type": "markdown",
   "id": "5926ab6e",
   "metadata": {},
   "source": [
    "Our next task is to take this __deseasonalized__ time series and to make it stationary. Try using `.diff()` and see how it looks. Then try diffing one more time to see any changes. "
   ]
  },
  {
   "cell_type": "code",
   "execution_count": null,
   "id": "e8b5df8f",
   "metadata": {
    "tags": [
     "challengify"
    ]
   },
   "outputs": [],
   "source": [
    "# YOUR CODE HERE"
   ]
  },
  {
   "cell_type": "code",
   "execution_count": null,
   "id": "6fd9d0a4",
   "metadata": {
    "tags": [
     "challengify"
    ]
   },
   "outputs": [],
   "source": [
    "# YOUR CODE HERE"
   ]
  },
  {
   "cell_type": "markdown",
   "id": "7e8b0e78",
   "metadata": {},
   "source": [
    "Both should look quite stationary visually, use the `adfuller` (Augmented Dicky-Fuller) test from the lecture to verify that each one is. \n",
    "\n",
    "N.B. When you `diff` you create null values in your DataFrame, you'll need to drop these to perform an ADF test."
   ]
  },
  {
   "cell_type": "code",
   "execution_count": null,
   "id": "822598ce",
   "metadata": {
    "tags": [
     "challengify"
    ]
   },
   "outputs": [],
   "source": [
    "# YOUR CODE HERE"
   ]
  },
  {
   "cell_type": "code",
   "execution_count": null,
   "id": "8a2ef129",
   "metadata": {
    "tags": [
     "challengify"
    ]
   },
   "outputs": [],
   "source": [
    "# YOUR CODE HERE"
   ]
  },
  {
   "cell_type": "code",
   "execution_count": null,
   "id": "2ae02b66",
   "metadata": {
    "tags": [
     "challengify"
    ]
   },
   "outputs": [],
   "source": [
    "# YOUR CODE HERE"
   ]
  },
  {
   "cell_type": "markdown",
   "id": "49b8151a",
   "metadata": {},
   "source": [
    "Both seem to be reasonably stationary, and it looks like there's no need to overdifference (though we can always try building a twice-diffed time series later). Let's go ahead and plot our `acf` and `pacf` plots (be sure to drop any `null` values - those will break your ACF and PACF calculators) 😔"
   ]
  },
  {
   "cell_type": "code",
   "execution_count": null,
   "id": "0cb56e80",
   "metadata": {},
   "outputs": [],
   "source": [
    "from statsmodels.graphics.tsaplots import plot_pacf\n",
    "from statsmodels.graphics.tsaplots import plot_acf"
   ]
  },
  {
   "cell_type": "code",
   "execution_count": null,
   "id": "b789e1e9",
   "metadata": {
    "tags": [
     "challengify"
    ]
   },
   "outputs": [],
   "source": [
    "# YOUR CODE HERE"
   ]
  },
  {
   "cell_type": "code",
   "execution_count": null,
   "id": "bb9244fe",
   "metadata": {
    "tags": [
     "challengify"
    ]
   },
   "outputs": [],
   "source": [
    "# YOUR CODE HERE"
   ]
  },
  {
   "cell_type": "markdown",
   "id": "09dc73e4",
   "metadata": {},
   "source": [
    "Take the time to really talk through what these plots actually mean with your buddy. Which one corresponds to your `p` parameter and which corresponds to your `q` parameter?"
   ]
  },
  {
   "cell_type": "markdown",
   "id": "73ee8d60",
   "metadata": {},
   "source": [
    "Now build a simple ARIMA model with the appropriate order values for your `p` `d` and `q` values. Investigate its model summary."
   ]
  },
  {
   "cell_type": "code",
   "execution_count": null,
   "id": "3ef837c6",
   "metadata": {
    "tags": [
     "challengify"
    ]
   },
   "outputs": [],
   "source": [
    "# YOUR CODE HERE"
   ]
  },
  {
   "cell_type": "markdown",
   "id": "604268e9",
   "metadata": {},
   "source": [
    "What do you note about the summary? What are the most important features here?"
   ]
  },
  {
   "cell_type": "markdown",
   "id": "e1633da4",
   "metadata": {},
   "source": [
    "It looks like we can trust our coefficients and we have an AIC of ~223. But was it the best model? Trying using the `auto_arima` function to grid search different models and see which has the best AIC"
   ]
  },
  {
   "cell_type": "code",
   "execution_count": null,
   "id": "a21807c6",
   "metadata": {},
   "outputs": [],
   "source": [
    "train"
   ]
  },
  {
   "cell_type": "code",
   "execution_count": null,
   "id": "27be5653",
   "metadata": {
    "tags": [
     "challengify"
    ]
   },
   "outputs": [],
   "source": [
    "# YOUR CODE HERE"
   ]
  },
  {
   "cell_type": "code",
   "execution_count": null,
   "id": "05c8d530",
   "metadata": {
    "tags": [
     "challengify"
    ]
   },
   "outputs": [],
   "source": [
    "# YOUR CODE HERE"
   ]
  },
  {
   "cell_type": "markdown",
   "id": "5196f052",
   "metadata": {},
   "source": [
    "Save your best AIC score to `best_AIC`"
   ]
  },
  {
   "cell_type": "code",
   "execution_count": null,
   "id": "1e7c8a39",
   "metadata": {
    "tags": [
     "challengify"
    ]
   },
   "outputs": [],
   "source": [
    "# YOUR CODE HERE"
   ]
  },
  {
   "cell_type": "code",
   "execution_count": null,
   "id": "4ffe36a0",
   "metadata": {},
   "outputs": [],
   "source": [
    "from nbresult import ChallengeResult\n",
    "\n",
    "result = ChallengeResult('score',\n",
    "                         aic_score = best_AIC)\n",
    "result.write()\n",
    "print(result.check())"
   ]
  },
  {
   "cell_type": "markdown",
   "id": "2bb9320b",
   "metadata": {},
   "source": [
    "Often times, it can be hard to predict which model with fit best on our data so it is usually a good idea to grid-search and compare your models' AIC scores 🧐 Here, it looks like a __(0,1,1)__ model gets a better AIC score (so the MA components of our original model probably weren't improving our model likelihood that much!)"
   ]
  },
  {
   "cell_type": "markdown",
   "id": "96fd41b3",
   "metadata": {},
   "source": [
    "### Making predictions (get ready for some Pandas work!)"
   ]
  },
  {
   "cell_type": "markdown",
   "id": "1c4be4c3",
   "metadata": {},
   "source": [
    "Now that we have our best model, we'd like to generate some predictions and - crucially - some confidence intervals. Use your model to predict for the length of your test set and ensure that you also return those intervals (use `return_conf_int = True`). Create a `preds_df` DataFrame with columns for `preds`, `upper` and `lower` bounds."
   ]
  },
  {
   "cell_type": "code",
   "execution_count": null,
   "id": "8281b958",
   "metadata": {
    "tags": [
     "challengify"
    ]
   },
   "outputs": [],
   "source": [
    "# YOUR CODE HERE"
   ]
  },
  {
   "cell_type": "code",
   "execution_count": null,
   "id": "bd6ee093",
   "metadata": {
    "tags": [
     "challengify"
    ]
   },
   "outputs": [],
   "source": [
    "# YOUR CODE HERE"
   ]
  },
  {
   "cell_type": "code",
   "execution_count": null,
   "id": "a574dbdd",
   "metadata": {
    "tags": [
     "challengify"
    ]
   },
   "outputs": [],
   "source": [
    "# YOUR CODE HERE"
   ]
  },
  {
   "cell_type": "code",
   "execution_count": null,
   "id": "e2251eef",
   "metadata": {},
   "outputs": [],
   "source": [
    "from nbresult import ChallengeResult\n",
    "\n",
    "result = ChallengeResult('preds',\n",
    "                         preds_df = preds_df)\n",
    "result.write()\n",
    "print(result.check())"
   ]
  },
  {
   "cell_type": "markdown",
   "id": "87fd86d1",
   "metadata": {},
   "source": [
    "Now plot them, out and see how they look compared alongside your `train` data"
   ]
  },
  {
   "cell_type": "code",
   "execution_count": null,
   "id": "d07e5c61",
   "metadata": {
    "tags": [
     "challengify"
    ]
   },
   "outputs": [],
   "source": [
    "# YOUR CODE HERE"
   ]
  },
  {
   "cell_type": "markdown",
   "id": "d0de484b",
   "metadata": {},
   "source": [
    "Something looks a bit wrong doesn't it? We're looking at three straight lines coming out of something that clearly had seasonality. To account for this, we need to re-incorporate the seasonality component that we extracted earlier!\n",
    "\n",
    "Create a `month` column in your `preds_df` DataFrame and populate it with the month component of the index. "
   ]
  },
  {
   "cell_type": "code",
   "execution_count": null,
   "id": "464a42df",
   "metadata": {
    "tags": [
     "challengify"
    ]
   },
   "outputs": [],
   "source": [
    "# YOUR CODE HERE"
   ]
  },
  {
   "cell_type": "code",
   "execution_count": null,
   "id": "ac0b29e4",
   "metadata": {
    "tags": [
     "challengify"
    ]
   },
   "outputs": [],
   "source": [
    "# YOUR CODE HERE"
   ]
  },
  {
   "cell_type": "markdown",
   "id": "9b9be792",
   "metadata": {},
   "source": [
    "Now we can take our `seasonal_one_year` DataFrame that we made earlier and simply merge it onto our `preds_df`!"
   ]
  },
  {
   "cell_type": "code",
   "execution_count": null,
   "id": "54901f05",
   "metadata": {
    "tags": [
     "challengify"
    ]
   },
   "outputs": [],
   "source": [
    "# YOUR CODE HERE"
   ]
  },
  {
   "cell_type": "code",
   "execution_count": null,
   "id": "5b993ac2",
   "metadata": {
    "tags": [
     "challengify"
    ]
   },
   "outputs": [],
   "source": [
    "# YOUR CODE HERE"
   ]
  },
  {
   "cell_type": "code",
   "execution_count": null,
   "id": "553fddf3",
   "metadata": {
    "tags": [
     "challengify"
    ]
   },
   "outputs": [],
   "source": [
    "# YOUR CODE HERE"
   ]
  },
  {
   "cell_type": "code",
   "execution_count": null,
   "id": "4cac6192",
   "metadata": {},
   "outputs": [],
   "source": [
    "preds_df"
   ]
  },
  {
   "cell_type": "markdown",
   "id": "00e57697",
   "metadata": {},
   "source": [
    "Now you can create your `full_preds`, `upper_conf` and `lower_conf` (create them as new columns in the `preds_df` DataFrame) by multiplying out your `preds`, `upper` __and__ `lower` columns with the seasonal component that we now have in our `preds_df` DataFrame."
   ]
  },
  {
   "cell_type": "code",
   "execution_count": null,
   "id": "a9fecf61",
   "metadata": {
    "tags": [
     "challengify"
    ]
   },
   "outputs": [],
   "source": [
    "# YOUR CODE HERE"
   ]
  },
  {
   "cell_type": "markdown",
   "id": "1b285aa4",
   "metadata": {},
   "source": [
    "Finally, to make plotting easier for us, set the index of your `preds_df` to be the same as the index of your `test` DataFrame (since they have the same length this should be quite easy for us!)"
   ]
  },
  {
   "cell_type": "code",
   "execution_count": null,
   "id": "a4eee300",
   "metadata": {
    "tags": [
     "challengify"
    ]
   },
   "outputs": [],
   "source": [
    "# YOUR CODE HERE"
   ]
  },
  {
   "cell_type": "code",
   "execution_count": null,
   "id": "f1ef12d2",
   "metadata": {},
   "outputs": [],
   "source": [
    "from nbresult import ChallengeResult\n",
    "\n",
    "result = ChallengeResult('fullpreds',\n",
    "                         preds_df = preds_df)\n",
    "result.write()\n",
    "print(result.check())"
   ]
  },
  {
   "cell_type": "markdown",
   "id": "e6eb66e5",
   "metadata": {},
   "source": [
    "Now plot everything out - the end of your train (e.g. the last 100 values, your full predictions, upper and lower confidence bounds and the true values from your `preds_df` DataFrame __and__ your baseline!"
   ]
  },
  {
   "cell_type": "code",
   "execution_count": null,
   "id": "3a225589",
   "metadata": {
    "tags": [
     "challengify"
    ]
   },
   "outputs": [],
   "source": [
    "# YOUR CODE HERE"
   ]
  },
  {
   "cell_type": "markdown",
   "id": "8cb90a60",
   "metadata": {},
   "source": [
    "Our predictions look pretty good! We can see that the true values are slightly higher than what we predicted but remains well within the bounds of our confidence intervals for a full 10 years out from when we started making our predictions."
   ]
  },
  {
   "cell_type": "markdown",
   "id": "e5ac7323",
   "metadata": {},
   "source": [
    "Why did our values dip below the true values? Run the cell below to decompose the test data and take a look at the trend component 👀\n"
   ]
  },
  {
   "cell_type": "code",
   "execution_count": null,
   "id": "0a860dea",
   "metadata": {},
   "outputs": [],
   "source": [
    "seasonal_decompose(test[\"CO2 molfrac (ppm)\"]).plot();"
   ]
  },
  {
   "cell_type": "markdown",
   "id": "2a7c91c9",
   "metadata": {},
   "source": [
    "It looks like in 2016-2018 there was a __slight rise__ in all of our values before the regular (slightly shallower) trend took over again. This is a great example of something occuring in our test dataset that we simply cannot predict. We don't know why there was a surge in CO2 readings - and we couldn't predict for it."
   ]
  },
  {
   "cell_type": "markdown",
   "id": "83a13fa0",
   "metadata": {},
   "source": [
    "❗ When we model with Time Series, we __cannot magically predict the future__. What we're trying to do is accurately capture and then extend the patterns of the past. \n",
    "\n",
    "- Often times, your raw predictions (without a seasonal component) will look like a fairly boring straight line 🙄 (as our current initial ones did) but this is what we'd expect\n",
    "- Some of the most value that we get out when doing Time Series analysis lies in being able to __quantify__ our trends, seasonal components and our confidence intervals so we can make well-informed decisions ✅"
   ]
  },
  {
   "cell_type": "markdown",
   "id": "4d70a9d0",
   "metadata": {},
   "source": [
    "Finally, let's quickly quantify how much better our model was than our baseline. Calculate the mean absolute error between your `preds` (with their seasonal component) and the true values. See if your `model_mae` is lower than the original `baseline_mae`. "
   ]
  },
  {
   "cell_type": "code",
   "execution_count": null,
   "id": "93a3ba56",
   "metadata": {},
   "outputs": [],
   "source": [
    "model_mae = (test[\"CO2 molfrac (ppm)\"] - preds_df[\"full_preds\"]).mean()"
   ]
  },
  {
   "cell_type": "code",
   "execution_count": null,
   "id": "37f07f79",
   "metadata": {
    "tags": [
     "challengify"
    ]
   },
   "outputs": [],
   "source": [
    "# YOUR CODE HERE"
   ]
  },
  {
   "cell_type": "markdown",
   "id": "1058f7f2",
   "metadata": {},
   "source": [
    "Our final MAE should be __much__ better than our original baseline. Great work 🥳 In another challenge, we'll explore how we can use Facebook Prophet to quickly make powerful predictions without the need for decomposition."
   ]
  }
 ],
 "metadata": {
  "kernelspec": {
   "display_name": "Python 3 (ipykernel)",
   "language": "python",
   "name": "python3"
  },
  "language_info": {
   "codemirror_mode": {
    "name": "ipython",
    "version": 3
   },
   "file_extension": ".py",
   "mimetype": "text/x-python",
   "name": "python",
   "nbconvert_exporter": "python",
   "pygments_lexer": "ipython3",
   "version": "3.12.9"
  }
 },
 "nbformat": 4,
 "nbformat_minor": 5
}
